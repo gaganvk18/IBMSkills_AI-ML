{
  "nbformat": 4,
  "nbformat_minor": 0,
  "metadata": {
    "colab": {
      "provenance": []
    },
    "kernelspec": {
      "name": "python3",
      "display_name": "Python 3"
    }
  },
  "cells": [
    {
      "cell_type": "markdown",
      "metadata": {
        "id": "37puETfgRzzg"
      },
      "source": [
        "# Data Preprocessing | IBM SkillsBuild Internship"
      ]
    },
    {
      "cell_type": "markdown",
      "metadata": {
        "id": "EoRP98MpR-qj"
      },
      "source": [
        "## Import the required libraries"
      ]
    },
    {
      "cell_type": "code",
      "source": [
        "import pandas as pd\n",
        "import numpy as np\n",
        "import matplotlib.pyplot as plt"
      ],
      "metadata": {
        "id": "MEyFvW9YQqOu"
      },
      "execution_count": null,
      "outputs": []
    },
    {
      "cell_type": "markdown",
      "metadata": {
        "id": "RopL7tUZSQkT"
      },
      "source": [
        "## Import the dataset"
      ]
    },
    {
      "cell_type": "code",
      "source": [
        "dataset = pd.read_csv('Data.csv')\n",
        "x=dataset.iloc[:,:-1].values\n",
        "y=dataset.iloc[:,-1].values"
      ],
      "metadata": {
        "id": "fzhg8pkIQysX"
      },
      "execution_count": null,
      "outputs": []
    },
    {
      "cell_type": "code",
      "source": [
        "print(x)\n"
      ],
      "metadata": {
        "colab": {
          "base_uri": "https://localhost:8080/"
        },
        "id": "SKOteZYISF_s",
        "outputId": "54d296da-9956-4553-b903-ddf7121a82e0"
      },
      "execution_count": null,
      "outputs": [
        {
          "output_type": "stream",
          "name": "stdout",
          "text": [
            "[['India' 44.0 72000.0]\n",
            " ['Thailand ' 27.0 48000.0]\n",
            " ['Indonesia' 30.0 54000.0]\n",
            " ['China' 38.0 61000.0]\n",
            " ['India' 40.0 nan]\n",
            " ['China' 35.0 58000.0]\n",
            " ['Thailand ' nan 52000.0]\n",
            " ['India' 48.0 79000.0]\n",
            " ['Indonesia' 50.0 83000.0]\n",
            " ['Thailand ' 37.0 67000.0]\n",
            " ['India' 25.0 nan]\n",
            " ['Thailand ' 36.0 60000.0]\n",
            " ['Indonesia' 42.0 64000.0]\n",
            " ['India' nan 40000.0]\n",
            " ['Thailand ' 52.0 90000.0]\n",
            " ['Indonesia' nan 55000.0]\n",
            " ['China' 41.0 nan]\n",
            " ['India' 29.0 48000.0]\n",
            " ['China' 43.0 70000.0]]\n"
          ]
        }
      ]
    },
    {
      "cell_type": "markdown",
      "metadata": {
        "id": "nhfKXNxlSabC"
      },
      "source": [
        "## Solving for missing data"
      ]
    },
    {
      "cell_type": "code",
      "source": [
        "from sklearn.impute import SimpleImputer\n",
        "imputer = SimpleImputer(missing_values=np.nan, strategy='mean')\n",
        "imputer.fit(x[:, 1:3])\n",
        "x[:, 1:3] = imputer.transform(x[:, 1:3])\n",
        "x"
      ],
      "metadata": {
        "colab": {
          "base_uri": "https://localhost:8080/"
        },
        "id": "C3fHxuVlR2nq",
        "outputId": "1dfedca3-9498-476f-f530-8f315dd90c9c"
      },
      "execution_count": null,
      "outputs": [
        {
          "output_type": "execute_result",
          "data": {
            "text/plain": [
              "array([['India', 44.0, 72000.0],\n",
              "       ['Thailand ', 27.0, 48000.0],\n",
              "       ['Indonesia', 30.0, 54000.0],\n",
              "       ['China', 38.0, 61000.0],\n",
              "       ['India', 40.0, 62562.5],\n",
              "       ['China', 35.0, 58000.0],\n",
              "       ['Thailand ', 38.5625, 52000.0],\n",
              "       ['India', 48.0, 79000.0],\n",
              "       ['Indonesia', 50.0, 83000.0],\n",
              "       ['Thailand ', 37.0, 67000.0],\n",
              "       ['India', 25.0, 62562.5],\n",
              "       ['Thailand ', 36.0, 60000.0],\n",
              "       ['Indonesia', 42.0, 64000.0],\n",
              "       ['India', 38.5625, 40000.0],\n",
              "       ['Thailand ', 52.0, 90000.0],\n",
              "       ['Indonesia', 38.5625, 55000.0],\n",
              "       ['China', 41.0, 62562.5],\n",
              "       ['India', 29.0, 48000.0],\n",
              "       ['China', 43.0, 70000.0]], dtype=object)"
            ]
          },
          "metadata": {},
          "execution_count": 5
        }
      ]
    },
    {
      "cell_type": "code",
      "source": [
        "print(x)"
      ],
      "metadata": {
        "colab": {
          "base_uri": "https://localhost:8080/"
        },
        "id": "Ik135WDbUxdl",
        "outputId": "bf507de4-85f1-435c-847e-45b884da8053"
      },
      "execution_count": null,
      "outputs": [
        {
          "output_type": "stream",
          "name": "stdout",
          "text": [
            "[['India' 44.0 72000.0]\n",
            " ['Thailand ' 27.0 48000.0]\n",
            " ['Indonesia' 30.0 54000.0]\n",
            " ['China' 38.0 61000.0]\n",
            " ['India' 40.0 62562.5]\n",
            " ['China' 35.0 58000.0]\n",
            " ['Thailand ' 38.5625 52000.0]\n",
            " ['India' 48.0 79000.0]\n",
            " ['Indonesia' 50.0 83000.0]\n",
            " ['Thailand ' 37.0 67000.0]\n",
            " ['India' 25.0 62562.5]\n",
            " ['Thailand ' 36.0 60000.0]\n",
            " ['Indonesia' 42.0 64000.0]\n",
            " ['India' 38.5625 40000.0]\n",
            " ['Thailand ' 52.0 90000.0]\n",
            " ['Indonesia' 38.5625 55000.0]\n",
            " ['China' 41.0 62562.5]\n",
            " ['India' 29.0 48000.0]\n",
            " ['China' 43.0 70000.0]]\n"
          ]
        }
      ]
    },
    {
      "cell_type": "markdown",
      "metadata": {
        "id": "CriG6VzVSjcK"
      },
      "source": [
        "## Encoding categorical data"
      ]
    },
    {
      "cell_type": "markdown",
      "metadata": {
        "id": "AhSpdQWeSsFh"
      },
      "source": [
        "### Encoding the Independent Variable"
      ]
    },
    {
      "cell_type": "code",
      "source": [
        "from sklearn.compose import ColumnTransformer\n",
        "from sklearn.preprocessing import OneHotEncoder\n",
        "\n",
        "ct = ColumnTransformer(transformers=[('encoder', OneHotEncoder(), [0])], remainder='passthrough')\n",
        "x = np.array(ct.fit_transform(x))\n",
        "print(x)"
      ],
      "metadata": {
        "colab": {
          "base_uri": "https://localhost:8080/"
        },
        "id": "j-xGDVkqU1fn",
        "outputId": "3f7996ef-2b1d-40ab-aa13-43cbf8535e6c"
      },
      "execution_count": null,
      "outputs": [
        {
          "output_type": "stream",
          "name": "stdout",
          "text": [
            "[[1.0 0.0 1.0 0.0 0.0 44.0 72000.0]\n",
            " [1.0 0.0 0.0 0.0 1.0 27.0 48000.0]\n",
            " [1.0 0.0 0.0 1.0 0.0 30.0 54000.0]\n",
            " [0.0 1.0 0.0 0.0 0.0 38.0 61000.0]\n",
            " [1.0 0.0 1.0 0.0 0.0 40.0 62562.5]\n",
            " [0.0 1.0 0.0 0.0 0.0 35.0 58000.0]\n",
            " [1.0 0.0 0.0 0.0 1.0 38.5625 52000.0]\n",
            " [1.0 0.0 1.0 0.0 0.0 48.0 79000.0]\n",
            " [1.0 0.0 0.0 1.0 0.0 50.0 83000.0]\n",
            " [1.0 0.0 0.0 0.0 1.0 37.0 67000.0]\n",
            " [1.0 0.0 1.0 0.0 0.0 25.0 62562.5]\n",
            " [1.0 0.0 0.0 0.0 1.0 36.0 60000.0]\n",
            " [1.0 0.0 0.0 1.0 0.0 42.0 64000.0]\n",
            " [1.0 0.0 1.0 0.0 0.0 38.5625 40000.0]\n",
            " [1.0 0.0 0.0 0.0 1.0 52.0 90000.0]\n",
            " [1.0 0.0 0.0 1.0 0.0 38.5625 55000.0]\n",
            " [0.0 1.0 0.0 0.0 0.0 41.0 62562.5]\n",
            " [1.0 0.0 1.0 0.0 0.0 29.0 48000.0]\n",
            " [0.0 1.0 0.0 0.0 0.0 43.0 70000.0]]\n"
          ]
        }
      ]
    },
    {
      "cell_type": "markdown",
      "metadata": {
        "id": "DXh8oVSITIc6"
      },
      "source": [
        "### Encoding the Dependent Variable"
      ]
    },
    {
      "cell_type": "code",
      "source": [
        "\n",
        "from sklearn.preprocessing import LabelEncoder\n",
        "le = LabelEncoder()\n",
        "y = le.fit_transform(y)\n",
        "y"
      ],
      "metadata": {
        "colab": {
          "base_uri": "https://localhost:8080/"
        },
        "id": "Z-8ggiY6X45P",
        "outputId": "7990f633-1f4f-4d97-d661-455189b0dcff"
      },
      "execution_count": null,
      "outputs": [
        {
          "output_type": "execute_result",
          "data": {
            "text/plain": [
              "array([0, 1, 0, 0, 1, 1, 0, 1, 0, 1, 0, 0, 1, 1, 1, 0, 1, 0, 1])"
            ]
          },
          "metadata": {},
          "execution_count": 10
        }
      ]
    },
    {
      "cell_type": "markdown",
      "metadata": {
        "id": "qb_vcgm3qZKW"
      },
      "source": [
        "## Splitting the dataset into the Training set and Test set"
      ]
    },
    {
      "cell_type": "code",
      "source": [
        "from sklearn.model_selection import train_test_split\n",
        "x_train, x_test, y_train, y_test = train_test_split(x, y, test_size = 0.2, random_state = 0)"
      ],
      "metadata": {
        "id": "gtO3IFMFYxZj"
      },
      "execution_count": null,
      "outputs": []
    },
    {
      "cell_type": "code",
      "source": [
        "print(x_test)\n"
      ],
      "metadata": {
        "colab": {
          "base_uri": "https://localhost:8080/"
        },
        "id": "PpF3Z_MSa84Z",
        "outputId": "c8f5eaca-76f3-4445-a6f1-743b75123851"
      },
      "execution_count": null,
      "outputs": [
        {
          "output_type": "stream",
          "name": "stdout",
          "text": [
            "[[1.0 0.0 1.0 -0.5 -0.6030226891555271 -2.4556760564830546\n",
            "  0.07474012715442147]\n",
            " [1.0 0.0 0.0 -0.5 1.6583123951777 -2.1092980056126858\n",
            "  -1.1516295648864376]\n",
            " [1.0 0.0 0.0 2.0 -0.6030226891555271 1.8740495793965597\n",
            "  1.7958684074006057]\n",
            " [0.0 1.0 0.0 -0.5 -0.6030226891555271 0.6617264013502677\n",
            "  0.7010834462654182]]\n"
          ]
        }
      ]
    },
    {
      "cell_type": "markdown",
      "metadata": {
        "id": "TpGqbS4TqkIR"
      },
      "source": [
        "## Feature Scaling"
      ]
    },
    {
      "cell_type": "code",
      "source": [
        "from sklearn.preprocessing import StandardScaler\n",
        "sc = StandardScaler()\n",
        "x_train = sc.fit_transform(x_train)\n",
        "x_test = sc.transform(x_test)"
      ],
      "metadata": {
        "id": "3RYNZ58gZG0S"
      },
      "execution_count": null,
      "outputs": []
    },
    {
      "cell_type": "code",
      "source": [
        "print(x_train)"
      ],
      "metadata": {
        "colab": {
          "base_uri": "https://localhost:8080/"
        },
        "id": "6SESqm1AbXsw",
        "outputId": "a0c7a266-9597-439e-c419-eda7c7dd4298"
      },
      "execution_count": null,
      "outputs": [
        {
          "output_type": "stream",
          "name": "stdout",
          "text": [
            "[[ 0.5        -0.5        -0.70710678 -0.5         1.6583124   2.22042763\n",
            "   2.385368  ]\n",
            " [-2.          2.         -0.70710678 -0.5        -0.60302269  0.31534835\n",
            "   0.07474013]\n",
            " [ 0.5        -0.5        -0.70710678 -0.5         1.6583124  -0.1067999\n",
            "  -0.81477265]\n",
            " [ 0.5        -0.5         1.41421356 -0.5        -0.60302269  0.14215933\n",
            "   0.07474013]\n",
            " [ 0.5        -0.5        -0.70710678  2.         -0.60302269 -1.58973093\n",
            "  -0.6463442 ]\n",
            " [-2.          2.         -0.70710678 -0.5        -0.60302269 -0.7237858\n",
            "  -0.30948729]\n",
            " [ 0.5        -0.5         1.41421356 -0.5        -0.60302269 -0.1067999\n",
            "  -1.82534339]\n",
            " [ 0.5        -0.5        -0.70710678 -0.5         1.6583124  -0.37740775\n",
            "   0.44844076]\n",
            " [ 0.5        -0.5         1.41421356 -0.5        -0.60302269  1.52767153\n",
            "   1.4590115 ]\n",
            " [ 0.5        -0.5         1.41421356 -0.5        -0.60302269 -1.76291995\n",
            "  -1.15162956]\n",
            " [ 0.5        -0.5        -0.70710678 -0.5         1.6583124  -0.55059678\n",
            "  -0.14105883]\n",
            " [-2.          2.         -0.70710678 -0.5        -0.60302269 -0.20421873\n",
            "  -0.0568446 ]\n",
            " [ 0.5        -0.5         1.41421356 -0.5        -0.60302269  0.83491543\n",
            "   0.8695119 ]\n",
            " [ 0.5        -0.5        -0.70710678  2.         -0.60302269 -0.1067999\n",
            "  -0.56212997]\n",
            " [ 0.5        -0.5        -0.70710678  2.         -0.60302269  0.48853738\n",
            "   0.19579808]]\n"
          ]
        }
      ]
    },
    {
      "cell_type": "code",
      "source": [
        "print(x_test)"
      ],
      "metadata": {
        "colab": {
          "base_uri": "https://localhost:8080/"
        },
        "id": "nJs_SIT_baSt",
        "outputId": "cf876eaa-c841-45f8-dee3-7d2158a6a34a"
      },
      "execution_count": null,
      "outputs": [
        {
          "output_type": "stream",
          "name": "stdout",
          "text": [
            "[[ 0.5        -0.5         1.41421356 -0.5        -0.60302269 -2.45567606\n",
            "   0.07474013]\n",
            " [ 0.5        -0.5        -0.70710678 -0.5         1.6583124  -2.10929801\n",
            "  -1.15162956]\n",
            " [ 0.5        -0.5        -0.70710678  2.         -0.60302269  1.87404958\n",
            "   1.79586841]\n",
            " [-2.          2.         -0.70710678 -0.5        -0.60302269  0.6617264\n",
            "   0.70108345]]\n"
          ]
        }
      ]
    }
  ]
}